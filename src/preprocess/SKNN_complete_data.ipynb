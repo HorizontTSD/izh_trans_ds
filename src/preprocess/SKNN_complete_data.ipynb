{
 "cells": [
  {
   "cell_type": "code",
   "execution_count": 7,
   "metadata": {},
   "outputs": [],
   "source": [
    "# KNN with season\n",
    "\n",
    "import pandas as pd\n",
    "import numpy as np\n",
    "from sklearn.impute import KNNImputer\n",
    "from sklearn.preprocessing import MinMaxScaler\n",
    "import matplotlib.pyplot as plt\n",
    "import holidays\n",
    "from sklearn.metrics import mean_squared_error, r2_score, mean_absolute_error\n",
    "import random\n",
    "from sklearn.linear_model import LinearRegression\n",
    "from tqdm import tqdm\n",
    "import numpy as np\n",
    "import matplotlib.pyplot as plt\n",
    "import pandas as pd\n",
    "from scipy.stats import norm\n",
    "from scipy.interpolate import make_interp_spline\n",
    "   \n",
    "\n",
    "\n",
    "def add_additional_features(df):\n",
    "    df['year'] = df.index.year\n",
    "    df['week'] = df.index.isocalendar().week\n",
    "    df['day_of_week'] = df.index.dayofweek\n",
    "    df['hour'] = df.index.hour\n",
    "    df['minute'] = df.index.minute\n",
    "    df['hour_sin'] = np.sin(2 * np.pi * df['hour'] / 24)\n",
    "    df['hour_cos'] = np.cos(2 * np.pi * df['hour'] / 24)\n",
    "    df['day_of_week_sin'] = np.sin(2 * np.pi * df['day_of_week'] / 7)\n",
    "    df['day_of_week_cos'] = np.cos(2 * np.pi * df['day_of_week'] / 7)\n",
    "    df['week_sin'] = np.sin(2 * np.pi * df['week'] / 52)\n",
    "    df['week_cos'] = np.cos(2 * np.pi * df['week'] / 52)\n",
    "\n",
    "    # Получаем список праздников\n",
    "    it_holidays = holidays.Italy(years=df['year'].unique().tolist())\n",
    "    # Создаем список дат праздников в формате datetime.date\n",
    "    holiday_dates = [date for date in it_holidays.keys()]\n",
    "\n",
    "    # Проверяем на принадлежность к праздникам, используя преобразованный список дат\n",
    "    df['is_holiday'] = df.index.normalize().isin(holiday_dates).astype(int)\n",
    "    \n",
    "    return df\n",
    "\n",
    "def fill_gaps_with_knn(df, n_neighbors=3):\n",
    "    # Добавление дополнительных признаков сезонности\n",
    "    df_with_features = add_additional_features(df)\n",
    "    \n",
    "    # Создание копии DataFrame для изменений\n",
    "    prefilled_df = df_with_features.copy()\n",
    "\n",
    "    # Индексы с пропущенными значениями в колонке 'P_l'\n",
    "    missing_indices = prefilled_df[prefilled_df['load_consumption'].isnull()].index\n",
    "\n",
    "    # Отбор признаков для KNN импутации, включая 'P_l' для вычисления индекса\n",
    "    features_to_impute = prefilled_df.drop(columns=['P_l_interval', 'is_droped']) if 'P_l_interval' in prefilled_df and 'is_droped' in prefilled_df else prefilled_df\n",
    "    \n",
    "    # Использование KNN для заполнения пропущенных значений\n",
    "    imputer = KNNImputer(n_neighbors=n_neighbors)\n",
    "    features_filled = imputer.fit_transform(features_to_impute)\n",
    "\n",
    "    # Создание DataFrame на основе заполненных данных, включая 'P_l'\n",
    "    filled_data_df = pd.DataFrame(features_filled, columns=features_to_impute.columns, index=features_to_impute.index)\n",
    "    \n",
    "    # Обновление только пропущенных значений в 'P_l'\n",
    "    prefilled_df.loc[missing_indices, 'load_consumption'] = filled_data_df.loc[missing_indices, 'load_consumption']\n",
    "    # Отбор нужных колонок для конечного DataFrame\n",
    "    final_columns = ['load_consumption']\n",
    "    filled_df = prefilled_df[final_columns]\n",
    "    return filled_df\n"
   ]
  },
  {
   "cell_type": "code",
   "execution_count": 8,
   "metadata": {},
   "outputs": [],
   "source": [
    "# Read data\n",
    "df_with_season = pd.read_csv('/Users/dmitrii/Desktop/PhD/Python/PhD_code_project/Machine-Learning-Techniques-for-Ensuring-the-Health-of-Citizens/notebooks/results/load_consumption_per_Marco1.csv', parse_dates=['time'], index_col='time')\n",
    "df_with_season.index.name = 'time'\n"
   ]
  },
  {
   "cell_type": "code",
   "execution_count": 9,
   "metadata": {},
   "outputs": [],
   "source": [
    "df_with_season.index = pd.to_datetime(df_with_season.index)\n",
    "\n"
   ]
  },
  {
   "cell_type": "code",
   "execution_count": 10,
   "metadata": {},
   "outputs": [
    {
     "name": "stdout",
     "output_type": "stream",
     "text": [
      "Index(['Unnamed: 0', 'load_consumption'], dtype='object')\n"
     ]
    }
   ],
   "source": [
    "print(df_with_season.columns)\n"
   ]
  },
  {
   "cell_type": "code",
   "execution_count": 11,
   "metadata": {},
   "outputs": [],
   "source": [
    "# Filling gaps using KNN\n",
    "filled_df = fill_gaps_with_knn(df_with_season)\n",
    "\n"
   ]
  },
  {
   "cell_type": "code",
   "execution_count": 12,
   "metadata": {},
   "outputs": [
    {
     "name": "stdout",
     "output_type": "stream",
     "text": [
      "                     load_consumption\n",
      "time                                 \n",
      "2017-05-12 00:03:21           24399.6\n",
      "2017-05-12 00:08:21           24181.4\n",
      "2017-05-12 00:13:21           23567.1\n",
      "2017-05-12 00:18:21           23130.0\n",
      "2017-05-12 00:23:21           22605.6\n",
      "...                               ...\n",
      "2023-12-18 13:56:07           31193.0\n",
      "2023-12-18 14:01:07           31774.8\n",
      "2023-12-18 14:06:07           33777.5\n",
      "2023-12-18 14:11:07           33673.7\n",
      "2023-12-18 14:16:07           33245.4\n",
      "\n",
      "[556692 rows x 1 columns]\n"
     ]
    }
   ],
   "source": [
    "print(filled_df)"
   ]
  },
  {
   "cell_type": "code",
   "execution_count": 13,
   "metadata": {},
   "outputs": [],
   "source": [
    "filled_df.to_csv(\"/Users/dmitrii/Desktop/PhD/Python/PhD_code_project/Machine-Learning-Techniques-for-Ensuring-the-Health-of-Citizens/notebooks/results/load_consumption_per_Marco_filled1.csv\")"
   ]
  },
  {
   "cell_type": "code",
   "execution_count": null,
   "metadata": {},
   "outputs": [],
   "source": [
    "import matplotlib.pyplot as plt\n",
    "import pandas as pd\n",
    "\n",
    "# Ensure that your DataFrame's index is of datetime type\n",
    "filled_df.index = pd.to_datetime(filled_df.index)\n",
    "\n",
    "# Filter for the last month's data\n",
    "last_month = filled_df.last('1m')  # Adjust '1M' if you need exactly the last calendar month\n",
    "\n",
    "# Plotting\n",
    "plt.figure(figsize=(12, 6))\n",
    "plt.plot(last_month.index, last_month['load_consumption'], label='Load Consumption')\n",
    "plt.title('Load Consumption Over the Last Month')\n",
    "plt.xlabel('Date')\n",
    "plt.ylabel('Load Consumption')\n",
    "plt.legend()\n",
    "plt.grid(True)  # Optional: adds grid lines for better readability\n",
    "plt.show()\n"
   ]
  }
 ],
 "metadata": {
  "kernelspec": {
   "display_name": "myenv",
   "language": "python",
   "name": "myenv"
  },
  "language_info": {
   "codemirror_mode": {
    "name": "ipython",
    "version": 3
   },
   "file_extension": ".py",
   "mimetype": "text/x-python",
   "name": "python",
   "nbconvert_exporter": "python",
   "pygments_lexer": "ipython3",
   "version": "3.9.-1"
  }
 },
 "nbformat": 4,
 "nbformat_minor": 2
}
